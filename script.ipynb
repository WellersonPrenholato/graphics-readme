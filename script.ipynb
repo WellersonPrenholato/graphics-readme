{
 "cells": [
  {
   "cell_type": "code",
   "execution_count": 92,
   "metadata": {},
   "outputs": [],
   "source": [
    "import pandas as pd\n",
    "from github import Github\n",
    "import getpass\n",
    "from functools import reduce\n",
    "import math\n",
    "from operator import itemgetter, attrgetter"
   ]
  },
  {
   "cell_type": "code",
   "execution_count": 93,
   "metadata": {},
   "outputs": [
    {
     "name": "stdout",
     "output_type": "stream",
     "text": [
      "Senha:········\n"
     ]
    }
   ],
   "source": [
    "g = Github('WellersonPrenholato', getpass.getpass('Senha:'))"
   ]
  },
  {
   "cell_type": "code",
   "execution_count": 94,
   "metadata": {
    "scrolled": true
   },
   "outputs": [
    {
     "name": "stdout",
     "output_type": "stream",
     "text": [
      "{'Java': 141020, 'TypeScript': 191454, 'HTML': 9031127, 'JavaScript': 1607891, 'CSS': 230576, 'PHP': 5975421, 'Jupyter Notebook': 6746772, 'C++': 159910, 'Python': 1914514, 'C': 954738, 'Shell': 7750, 'TeX': 125055, 'Makefile': 4006, 'Assembly': 4796, 'Processing': 23061, 'Cuda': 72651, 'Go': 3330, 'C#': 3211, 'Kotlin': 2346, 'Brainfuck': 1836, 'Batchfile': 1502, 'Ruby': 1493, 'Swift': 1312, 'Elixir': 805, 'Brightscript': 701, 'R': 684, 'Visual Basic': 432, 'Pascal': 430, 'PowerShell': 429, 'Rust': 387, 'Scala': 377, 'MATLAB': 351, 'Haskell': 348, 'Lua': 342, 'Elm': 324, 'Pike': 324, 'Apex': 314, 'LOLCODE': 311, 'Hack': 269, 'Scheme': 257, 'D': 255, 'Tcl': 228, 'F#': 225, 'Nemerle': 221, 'Fortran': 217, 'Crystal': 211, 'Common Lisp': 195, 'Ada': 192, 'xBase': 165, 'Dart': 137, 'Prolog': 134, 'Haxe': 133, 'Perl 6': 130, 'ABAP': 125, 'COBOL': 123, 'OCaml': 123, 'CoffeeScript': 122, 'Perl': 120, 'Smalltalk': 114, 'Groovy': 113, 'q': 107, 'Julia': 107, 'Forth': 105, 'Nim': 84, 'Erlang': 80, 'Clojure': 45, 'Dockerfile': 167}\n"
     ]
    }
   ],
   "source": [
    "usedLanguages={}\n",
    "for repo in g.get_user().get_repos():\n",
    "    repoLangs = repo.get_languages()\n",
    "    for lang in repoLangs:\n",
    "        if lang in usedLanguages:\n",
    "            usedLanguages[lang] += repoLangs[lang]\n",
    "        else:\n",
    "            usedLanguages[lang] = repoLangs[lang]\n",
    "\n",
    "print(usedLanguages)"
   ]
  },
  {
   "cell_type": "code",
   "execution_count": 95,
   "metadata": {
    "scrolled": true
   },
   "outputs": [],
   "source": [
    "# usedLanguages.items()"
   ]
  },
  {
   "cell_type": "code",
   "execution_count": 96,
   "metadata": {},
   "outputs": [],
   "source": [
    "total = reduce(lambda x, value: x + value, usedLanguages.values(), 0)"
   ]
  },
  {
   "cell_type": "code",
   "execution_count": 97,
   "metadata": {},
   "outputs": [],
   "source": [
    "for x in usedLanguages:\n",
    "    usedLanguages[x] /= total\n",
    "    usedLanguages[x] = round(usedLanguages[x]*100, 3)\n",
    "#     print(usedLanguages[x])"
   ]
  },
  {
   "cell_type": "code",
   "execution_count": 98,
   "metadata": {
    "scrolled": true
   },
   "outputs": [
    {
     "name": "stdout",
     "output_type": "stream",
     "text": [
      "{'Java': 0.518, 'TypeScript': 0.703, 'HTML': 33.182, 'JavaScript': 5.908, 'CSS': 0.847, 'PHP': 21.955, 'Jupyter Notebook': 24.789, 'C++': 0.588, 'Python': 7.034, 'C': 3.508, 'Shell': 0.028, 'TeX': 0.459, 'Makefile': 0.015, 'Assembly': 0.018, 'Processing': 0.085, 'Cuda': 0.267, 'Go': 0.012, 'C#': 0.012, 'Kotlin': 0.009, 'Brainfuck': 0.007, 'Batchfile': 0.006, 'Ruby': 0.005, 'Swift': 0.005, 'Elixir': 0.003, 'Brightscript': 0.003, 'R': 0.003, 'Visual Basic': 0.002, 'Pascal': 0.002, 'PowerShell': 0.002, 'Rust': 0.001, 'Scala': 0.001, 'MATLAB': 0.001, 'Haskell': 0.001, 'Lua': 0.001, 'Elm': 0.001, 'Pike': 0.001, 'Apex': 0.001, 'LOLCODE': 0.001, 'Hack': 0.001, 'Scheme': 0.001, 'D': 0.001, 'Tcl': 0.001, 'F#': 0.001, 'Nemerle': 0.001, 'Fortran': 0.001, 'Crystal': 0.001, 'Common Lisp': 0.001, 'Ada': 0.001, 'xBase': 0.001, 'Dart': 0.001, 'Prolog': 0.0, 'Haxe': 0.0, 'Perl 6': 0.0, 'ABAP': 0.0, 'COBOL': 0.0, 'OCaml': 0.0, 'CoffeeScript': 0.0, 'Perl': 0.0, 'Smalltalk': 0.0, 'Groovy': 0.0, 'q': 0.0, 'Julia': 0.0, 'Forth': 0.0, 'Nim': 0.0, 'Erlang': 0.0, 'Clojure': 0.0, 'Dockerfile': 0.001}\n"
     ]
    }
   ],
   "source": [
    "# for item in usedLanguages:\n",
    "print (usedLanguages)"
   ]
  },
  {
   "cell_type": "code",
   "execution_count": 99,
   "metadata": {},
   "outputs": [
    {
     "data": {
      "text/plain": [
       "dict_items([('Java', 0.518), ('TypeScript', 0.703), ('HTML', 33.182), ('JavaScript', 5.908), ('CSS', 0.847), ('PHP', 21.955), ('Jupyter Notebook', 24.789), ('C++', 0.588), ('Python', 7.034), ('C', 3.508), ('Shell', 0.028), ('TeX', 0.459), ('Makefile', 0.015), ('Assembly', 0.018), ('Processing', 0.085), ('Cuda', 0.267), ('Go', 0.012), ('C#', 0.012), ('Kotlin', 0.009), ('Brainfuck', 0.007), ('Batchfile', 0.006), ('Ruby', 0.005), ('Swift', 0.005), ('Elixir', 0.003), ('Brightscript', 0.003), ('R', 0.003), ('Visual Basic', 0.002), ('Pascal', 0.002), ('PowerShell', 0.002), ('Rust', 0.001), ('Scala', 0.001), ('MATLAB', 0.001), ('Haskell', 0.001), ('Lua', 0.001), ('Elm', 0.001), ('Pike', 0.001), ('Apex', 0.001), ('LOLCODE', 0.001), ('Hack', 0.001), ('Scheme', 0.001), ('D', 0.001), ('Tcl', 0.001), ('F#', 0.001), ('Nemerle', 0.001), ('Fortran', 0.001), ('Crystal', 0.001), ('Common Lisp', 0.001), ('Ada', 0.001), ('xBase', 0.001), ('Dart', 0.001), ('Prolog', 0.0), ('Haxe', 0.0), ('Perl 6', 0.0), ('ABAP', 0.0), ('COBOL', 0.0), ('OCaml', 0.0), ('CoffeeScript', 0.0), ('Perl', 0.0), ('Smalltalk', 0.0), ('Groovy', 0.0), ('q', 0.0), ('Julia', 0.0), ('Forth', 0.0), ('Nim', 0.0), ('Erlang', 0.0), ('Clojure', 0.0), ('Dockerfile', 0.001)])"
      ]
     },
     "execution_count": 99,
     "metadata": {},
     "output_type": "execute_result"
    }
   ],
   "source": [
    "usedLanguages.items()"
   ]
  },
  {
   "cell_type": "code",
   "execution_count": 100,
   "metadata": {},
   "outputs": [],
   "source": [
    "conjLinguagens = [];\n",
    "pesoLinguagens = [];\n",
    "for linguagem, peso in zip(list(usedLanguages.keys()), list(usedLanguages.values())):\n",
    "    conjLinguagens.append(linguagem)\n",
    "    pesoLinguagens.append(peso)"
   ]
  },
  {
   "cell_type": "code",
   "execution_count": 101,
   "metadata": {},
   "outputs": [],
   "source": [
    "armazena_data = {'Linguagens': conjLinguagens, 'Peso': pesoLinguagens};"
   ]
  },
  {
   "cell_type": "code",
   "execution_count": 102,
   "metadata": {},
   "outputs": [],
   "source": [
    "#Transforma o conjunto de listas em um dataframe\n",
    "data = pd.DataFrame(armazena_data)"
   ]
  },
  {
   "cell_type": "code",
   "execution_count": 103,
   "metadata": {},
   "outputs": [],
   "source": [
    "#Gera o arquivo csv com apenas os atributos selecionados pela árvore de decisãob\n",
    "data.to_csv('Linguagens.csv', encoding= 'ISO-8859-1', sep= ';', index=False)"
   ]
  },
  {
   "cell_type": "code",
   "execution_count": 104,
   "metadata": {},
   "outputs": [
    {
     "data": {
      "text/plain": [
       "99.99700000000001"
      ]
     },
     "execution_count": 104,
     "metadata": {},
     "output_type": "execute_result"
    }
   ],
   "source": [
    "data['Peso'].sum()"
   ]
  },
  {
   "cell_type": "code",
   "execution_count": 107,
   "metadata": {},
   "outputs": [],
   "source": [
    "data.sort_values(by=['Peso'], ascending=False, inplace=True)"
   ]
  },
  {
   "cell_type": "code",
   "execution_count": 111,
   "metadata": {},
   "outputs": [
    {
     "data": {
      "text/html": [
       "<div>\n",
       "<style scoped>\n",
       "    .dataframe tbody tr th:only-of-type {\n",
       "        vertical-align: middle;\n",
       "    }\n",
       "\n",
       "    .dataframe tbody tr th {\n",
       "        vertical-align: top;\n",
       "    }\n",
       "\n",
       "    .dataframe thead th {\n",
       "        text-align: right;\n",
       "    }\n",
       "</style>\n",
       "<table border=\"1\" class=\"dataframe\">\n",
       "  <thead>\n",
       "    <tr style=\"text-align: right;\">\n",
       "      <th></th>\n",
       "      <th>Linguagens</th>\n",
       "      <th>Peso</th>\n",
       "    </tr>\n",
       "  </thead>\n",
       "  <tbody>\n",
       "    <tr>\n",
       "      <th>2</th>\n",
       "      <td>HTML</td>\n",
       "      <td>33.182</td>\n",
       "    </tr>\n",
       "    <tr>\n",
       "      <th>6</th>\n",
       "      <td>Jupyter Notebook</td>\n",
       "      <td>24.789</td>\n",
       "    </tr>\n",
       "    <tr>\n",
       "      <th>5</th>\n",
       "      <td>PHP</td>\n",
       "      <td>21.955</td>\n",
       "    </tr>\n",
       "    <tr>\n",
       "      <th>8</th>\n",
       "      <td>Python</td>\n",
       "      <td>7.034</td>\n",
       "    </tr>\n",
       "    <tr>\n",
       "      <th>3</th>\n",
       "      <td>JavaScript</td>\n",
       "      <td>5.908</td>\n",
       "    </tr>\n",
       "    <tr>\n",
       "      <th>9</th>\n",
       "      <td>C</td>\n",
       "      <td>3.508</td>\n",
       "    </tr>\n",
       "    <tr>\n",
       "      <th>4</th>\n",
       "      <td>CSS</td>\n",
       "      <td>0.847</td>\n",
       "    </tr>\n",
       "    <tr>\n",
       "      <th>1</th>\n",
       "      <td>TypeScript</td>\n",
       "      <td>0.703</td>\n",
       "    </tr>\n",
       "    <tr>\n",
       "      <th>7</th>\n",
       "      <td>C++</td>\n",
       "      <td>0.588</td>\n",
       "    </tr>\n",
       "    <tr>\n",
       "      <th>0</th>\n",
       "      <td>Java</td>\n",
       "      <td>0.518</td>\n",
       "    </tr>\n",
       "    <tr>\n",
       "      <th>11</th>\n",
       "      <td>TeX</td>\n",
       "      <td>0.459</td>\n",
       "    </tr>\n",
       "    <tr>\n",
       "      <th>15</th>\n",
       "      <td>Cuda</td>\n",
       "      <td>0.267</td>\n",
       "    </tr>\n",
       "  </tbody>\n",
       "</table>\n",
       "</div>"
      ],
      "text/plain": [
       "          Linguagens    Peso\n",
       "2               HTML  33.182\n",
       "6   Jupyter Notebook  24.789\n",
       "5                PHP  21.955\n",
       "8             Python   7.034\n",
       "3         JavaScript   5.908\n",
       "9                  C   3.508\n",
       "4                CSS   0.847\n",
       "1         TypeScript   0.703\n",
       "7                C++   0.588\n",
       "0               Java   0.518\n",
       "11               TeX   0.459\n",
       "15              Cuda   0.267"
      ]
     },
     "execution_count": 111,
     "metadata": {},
     "output_type": "execute_result"
    }
   ],
   "source": [
    "data.head(12)"
   ]
  },
  {
   "cell_type": "code",
   "execution_count": null,
   "metadata": {},
   "outputs": [],
   "source": []
  }
 ],
 "metadata": {
  "kernelspec": {
   "display_name": "Python 3",
   "language": "python",
   "name": "python3"
  },
  "language_info": {
   "codemirror_mode": {
    "name": "ipython",
    "version": 3
   },
   "file_extension": ".py",
   "mimetype": "text/x-python",
   "name": "python",
   "nbconvert_exporter": "python",
   "pygments_lexer": "ipython3",
   "version": "3.7.4"
  }
 },
 "nbformat": 4,
 "nbformat_minor": 4
}
