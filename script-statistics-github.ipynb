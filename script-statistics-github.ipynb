{
 "cells": [
  {
   "cell_type": "markdown",
   "metadata": {},
   "source": [
    "# This script generates a graph with the statistics of the most used programming languages on GitHub itself."
   ]
  },
  {
   "cell_type": "markdown",
   "metadata": {},
   "source": [
    "## Author: Wellerson Prenholato"
   ]
  },
  {
   "cell_type": "markdown",
   "metadata": {},
   "source": [
    "# Importa bibliotecas"
   ]
  },
  {
   "cell_type": "code",
   "execution_count": 190,
   "metadata": {
    "ExecuteTime": {
     "end_time": "2023-10-28T04:42:13.295386Z",
     "start_time": "2023-10-28T04:42:13.292114Z"
    }
   },
   "outputs": [],
   "source": [
    "#Importação da bibliotecas\n",
    "import pandas as pd\n",
    "import numpy as np \n",
    "from github import Github\n",
    "from functools import reduce\n",
    "import math\n",
    "from operator import itemgetter, attrgetter\n",
    "from matplotlib import pyplot as plt\n",
    "from dotenv import load_dotenv\n",
    "import os\n",
    "# import getpass"
   ]
  },
  {
   "cell_type": "code",
   "execution_count": 191,
   "metadata": {
    "ExecuteTime": {
     "end_time": "2023-10-28T04:42:13.304690Z",
     "start_time": "2023-10-28T04:42:13.296395Z"
    },
    "scrolled": true
   },
   "outputs": [],
   "source": [
    "# g = Github('WellersonPrenholato', getpass.getpass('Senha:'))"
   ]
  },
  {
   "cell_type": "markdown",
   "metadata": {},
   "source": [
    "# Token para acessar o GitHub"
   ]
  },
  {
   "cell_type": "code",
   "execution_count": 192,
   "metadata": {
    "ExecuteTime": {
     "end_time": "2023-10-28T04:42:13.329240Z",
     "start_time": "2023-10-28T04:42:13.312231Z"
    }
   },
   "outputs": [],
   "source": [
    "# Carregue as variáveis de ambiente do arquivo .env\n",
    "load_dotenv()\n",
    "\n",
    "token_ssh = os.getenv('TOKEN_SSH')"
   ]
  },
  {
   "cell_type": "code",
   "execution_count": 193,
   "metadata": {
    "ExecuteTime": {
     "end_time": "2023-10-28T04:42:13.334911Z",
     "start_time": "2023-10-28T04:42:13.330760Z"
    }
   },
   "outputs": [],
   "source": [
    "# Crie uma instância do Github com o token\n",
    "g = Github(token_ssh)"
   ]
  },
  {
   "cell_type": "markdown",
   "metadata": {},
   "source": [
    "# Algoritmo"
   ]
  },
  {
   "cell_type": "code",
   "execution_count": 194,
   "metadata": {
    "ExecuteTime": {
     "end_time": "2023-10-28T04:42:58.961674Z",
     "start_time": "2023-10-28T04:42:13.341427Z"
    },
    "scrolled": true
   },
   "outputs": [],
   "source": [
    "usedLanguages={}\n",
    "for repo in g.get_user().get_repos():\n",
    "    repoLangs = repo.get_languages()\n",
    "    for lang in repoLangs:\n",
    "        if lang in usedLanguages:\n",
    "            usedLanguages[lang] += repoLangs[lang]\n",
    "        else:\n",
    "            usedLanguages[lang] = repoLangs[lang]\n",
    "# print(usedLanguages)"
   ]
  },
  {
   "cell_type": "code",
   "execution_count": 195,
   "metadata": {
    "ExecuteTime": {
     "end_time": "2023-10-28T04:42:58.966683Z",
     "start_time": "2023-10-28T04:42:58.963624Z"
    }
   },
   "outputs": [],
   "source": [
    "# total = reduce(lambda x, value:x + value, usedLanguages.values(), 0)\n",
    "# total"
   ]
  },
  {
   "cell_type": "code",
   "execution_count": 196,
   "metadata": {
    "ExecuteTime": {
     "end_time": "2023-10-28T04:42:58.977178Z",
     "start_time": "2023-10-28T04:42:58.967619Z"
    }
   },
   "outputs": [],
   "source": [
    "conjLinguagens = [];\n",
    "pesoLinguagens = [];\n",
    "for linguagem, peso in zip(list(usedLanguages.keys()), list(usedLanguages.values())):\n",
    "    conjLinguagens.append(linguagem)\n",
    "    pesoLinguagens.append(peso)"
   ]
  },
  {
   "cell_type": "code",
   "execution_count": 197,
   "metadata": {
    "ExecuteTime": {
     "end_time": "2023-10-28T04:42:58.983340Z",
     "start_time": "2023-10-28T04:42:58.979330Z"
    }
   },
   "outputs": [],
   "source": [
    "armazena_data = {'Linguagens': conjLinguagens, 'Peso': pesoLinguagens};"
   ]
  },
  {
   "cell_type": "code",
   "execution_count": 198,
   "metadata": {
    "ExecuteTime": {
     "end_time": "2023-10-28T04:42:58.990001Z",
     "start_time": "2023-10-28T04:42:58.984347Z"
    }
   },
   "outputs": [],
   "source": [
    "#Transforma o conjunto de listas em um dataframe\n",
    "data = pd.DataFrame(armazena_data)"
   ]
  },
  {
   "cell_type": "code",
   "execution_count": 199,
   "metadata": {
    "ExecuteTime": {
     "end_time": "2023-10-28T04:42:58.998297Z",
     "start_time": "2023-10-28T04:42:58.992040Z"
    }
   },
   "outputs": [],
   "source": [
    "#Gera um arquivo csv com todas linguagens utilizadas\n",
    "data.to_csv('Linguagens.csv', encoding= 'ISO-8859-1', sep= ';', index=False)\n",
    "data.sort_values(by=['Peso'], ascending=False, inplace=True)"
   ]
  },
  {
   "cell_type": "code",
   "execution_count": 200,
   "metadata": {
    "ExecuteTime": {
     "end_time": "2023-10-28T04:42:59.005049Z",
     "start_time": "2023-10-28T04:42:58.999304Z"
    }
   },
   "outputs": [],
   "source": [
    "#Lista com todas as linguagens que desejamos remover\n",
    "listRemove = ['HTML', 'CSS', 'Jupyter Notebook', 'PHP'];\n",
    "for remove in listRemove:\n",
    "    data = data.drop(data[(data.Linguagens == remove)].index)"
   ]
  },
  {
   "cell_type": "code",
   "execution_count": 201,
   "metadata": {
    "ExecuteTime": {
     "end_time": "2023-10-28T04:42:59.013057Z",
     "start_time": "2023-10-28T04:42:59.007055Z"
    }
   },
   "outputs": [],
   "source": [
    "#Gera o arquivo csv com todas linguages utilizadas no próprio github\n",
    "data.to_csv('Linguagens.csv', encoding= 'ISO-8859-1', sep= ';', index=False)\n",
    "data = pd.read_csv('Linguagens.csv', encoding='ISO-8859-1', sep=';')"
   ]
  },
  {
   "cell_type": "code",
   "execution_count": 202,
   "metadata": {
    "ExecuteTime": {
     "end_time": "2023-10-28T04:42:59.018329Z",
     "start_time": "2023-10-28T04:42:59.014067Z"
    }
   },
   "outputs": [],
   "source": [
    "# Seleciona um número x de linguagens\n",
    "qtdLanguages = 6\n",
    "indices=[x for x in data.index if (x >= qtdLanguages)]\n",
    "data.drop(indices, inplace=True)"
   ]
  },
  {
   "cell_type": "code",
   "execution_count": 203,
   "metadata": {
    "ExecuteTime": {
     "end_time": "2023-10-28T04:42:59.026794Z",
     "start_time": "2023-10-28T04:42:59.020842Z"
    },
    "scrolled": true
   },
   "outputs": [
    {
     "data": {
      "text/html": [
       "<div>\n",
       "<style scoped>\n",
       "    .dataframe tbody tr th:only-of-type {\n",
       "        vertical-align: middle;\n",
       "    }\n",
       "\n",
       "    .dataframe tbody tr th {\n",
       "        vertical-align: top;\n",
       "    }\n",
       "\n",
       "    .dataframe thead th {\n",
       "        text-align: right;\n",
       "    }\n",
       "</style>\n",
       "<table border=\"1\" class=\"dataframe\">\n",
       "  <thead>\n",
       "    <tr style=\"text-align: right;\">\n",
       "      <th></th>\n",
       "      <th>Linguagens</th>\n",
       "      <th>Peso</th>\n",
       "    </tr>\n",
       "  </thead>\n",
       "  <tbody>\n",
       "    <tr>\n",
       "      <th>0</th>\n",
       "      <td>Python</td>\n",
       "      <td>2302624</td>\n",
       "    </tr>\n",
       "    <tr>\n",
       "      <th>1</th>\n",
       "      <td>C</td>\n",
       "      <td>1930323</td>\n",
       "    </tr>\n",
       "    <tr>\n",
       "      <th>2</th>\n",
       "      <td>JavaScript</td>\n",
       "      <td>1826549</td>\n",
       "    </tr>\n",
       "    <tr>\n",
       "      <th>3</th>\n",
       "      <td>TypeScript</td>\n",
       "      <td>852044</td>\n",
       "    </tr>\n",
       "    <tr>\n",
       "      <th>4</th>\n",
       "      <td>Java</td>\n",
       "      <td>500076</td>\n",
       "    </tr>\n",
       "    <tr>\n",
       "      <th>5</th>\n",
       "      <td>C++</td>\n",
       "      <td>291871</td>\n",
       "    </tr>\n",
       "  </tbody>\n",
       "</table>\n",
       "</div>"
      ],
      "text/plain": [
       "   Linguagens     Peso\n",
       "0      Python  2302624\n",
       "1           C  1930323\n",
       "2  JavaScript  1826549\n",
       "3  TypeScript   852044\n",
       "4        Java   500076\n",
       "5         C++   291871"
      ]
     },
     "execution_count": 203,
     "metadata": {},
     "output_type": "execute_result"
    }
   ],
   "source": [
    "data.head(20)"
   ]
  },
  {
   "cell_type": "code",
   "execution_count": 204,
   "metadata": {
    "ExecuteTime": {
     "end_time": "2023-10-28T04:42:59.031955Z",
     "start_time": "2023-10-28T04:42:59.027800Z"
    }
   },
   "outputs": [
    {
     "data": {
      "text/plain": [
       "7703487"
      ]
     },
     "execution_count": 204,
     "metadata": {},
     "output_type": "execute_result"
    }
   ],
   "source": [
    "total = data['Peso'].sum()\n",
    "# total = reduce(lambda x, value: x + value, data['Peso'], 0)\n",
    "total"
   ]
  },
  {
   "cell_type": "code",
   "execution_count": 205,
   "metadata": {
    "ExecuteTime": {
     "end_time": "2023-10-28T04:42:59.036529Z",
     "start_time": "2023-10-28T04:42:59.032961Z"
    },
    "scrolled": true
   },
   "outputs": [],
   "source": [
    "data['Peso'] = pd.to_numeric(data['Peso'], downcast='float')"
   ]
  },
  {
   "cell_type": "code",
   "execution_count": 206,
   "metadata": {
    "ExecuteTime": {
     "end_time": "2023-10-28T04:42:59.044167Z",
     "start_time": "2023-10-28T04:42:59.037535Z"
    }
   },
   "outputs": [
    {
     "data": {
      "text/plain": [
       "Linguagens     object\n",
       "Peso          float32\n",
       "dtype: object"
      ]
     },
     "execution_count": 206,
     "metadata": {},
     "output_type": "execute_result"
    }
   ],
   "source": [
    "data.dtypes"
   ]
  },
  {
   "cell_type": "code",
   "execution_count": 207,
   "metadata": {
    "ExecuteTime": {
     "end_time": "2023-10-28T04:42:59.051171Z",
     "start_time": "2023-10-28T04:42:59.046171Z"
    }
   },
   "outputs": [
    {
     "name": "stderr",
     "output_type": "stream",
     "text": [
      "C:\\Users\\welle\\AppData\\Local\\Temp\\ipykernel_152128\\2208118469.py:2: FutureWarning: Setting an item of incompatible dtype is deprecated and will raise in a future error of pandas. Value '0.29890671588074336' has dtype incompatible with float32, please explicitly cast to a compatible dtype first.\n",
      "  data.at[index, 'Peso'] /= total\n"
     ]
    }
   ],
   "source": [
    "for index, row in data.iterrows():\n",
    "    data.at[index, 'Peso'] /= total\n",
    "    data.at[index, 'Peso'] = round(data.at[index, 'Peso'] * 100, 3)\n",
    "#     print(data.at[index, 'Peso'])"
   ]
  },
  {
   "cell_type": "code",
   "execution_count": 208,
   "metadata": {
    "ExecuteTime": {
     "end_time": "2023-10-28T04:42:59.057500Z",
     "start_time": "2023-10-28T04:42:59.052330Z"
    }
   },
   "outputs": [
    {
     "data": {
      "text/plain": [
       "100.001"
      ]
     },
     "execution_count": 208,
     "metadata": {},
     "output_type": "execute_result"
    }
   ],
   "source": [
    "#Verificação da porcentagem total\n",
    "data['Peso'].sum()"
   ]
  },
  {
   "cell_type": "code",
   "execution_count": 209,
   "metadata": {
    "ExecuteTime": {
     "end_time": "2023-10-28T04:42:59.064777Z",
     "start_time": "2023-10-28T04:42:59.058505Z"
    }
   },
   "outputs": [
    {
     "data": {
      "text/html": [
       "<div>\n",
       "<style scoped>\n",
       "    .dataframe tbody tr th:only-of-type {\n",
       "        vertical-align: middle;\n",
       "    }\n",
       "\n",
       "    .dataframe tbody tr th {\n",
       "        vertical-align: top;\n",
       "    }\n",
       "\n",
       "    .dataframe thead th {\n",
       "        text-align: right;\n",
       "    }\n",
       "</style>\n",
       "<table border=\"1\" class=\"dataframe\">\n",
       "  <thead>\n",
       "    <tr style=\"text-align: right;\">\n",
       "      <th></th>\n",
       "      <th>Linguagens</th>\n",
       "      <th>Peso</th>\n",
       "    </tr>\n",
       "  </thead>\n",
       "  <tbody>\n",
       "    <tr>\n",
       "      <th>0</th>\n",
       "      <td>Python</td>\n",
       "      <td>29.891</td>\n",
       "    </tr>\n",
       "    <tr>\n",
       "      <th>1</th>\n",
       "      <td>C</td>\n",
       "      <td>25.058</td>\n",
       "    </tr>\n",
       "    <tr>\n",
       "      <th>2</th>\n",
       "      <td>JavaScript</td>\n",
       "      <td>23.711</td>\n",
       "    </tr>\n",
       "    <tr>\n",
       "      <th>3</th>\n",
       "      <td>TypeScript</td>\n",
       "      <td>11.060</td>\n",
       "    </tr>\n",
       "    <tr>\n",
       "      <th>4</th>\n",
       "      <td>Java</td>\n",
       "      <td>6.492</td>\n",
       "    </tr>\n",
       "    <tr>\n",
       "      <th>5</th>\n",
       "      <td>C++</td>\n",
       "      <td>3.789</td>\n",
       "    </tr>\n",
       "  </tbody>\n",
       "</table>\n",
       "</div>"
      ],
      "text/plain": [
       "   Linguagens    Peso\n",
       "0      Python  29.891\n",
       "1           C  25.058\n",
       "2  JavaScript  23.711\n",
       "3  TypeScript  11.060\n",
       "4        Java   6.492\n",
       "5         C++   3.789"
      ]
     },
     "execution_count": 209,
     "metadata": {},
     "output_type": "execute_result"
    }
   ],
   "source": [
    "data.head(10)"
   ]
  },
  {
   "cell_type": "markdown",
   "metadata": {},
   "source": [
    "# Gera gráfico"
   ]
  },
  {
   "cell_type": "code",
   "execution_count": 210,
   "metadata": {
    "ExecuteTime": {
     "end_time": "2023-10-28T04:42:59.194096Z",
     "start_time": "2023-10-28T04:42:59.065782Z"
    }
   },
   "outputs": [
    {
     "data": {
      "image/png": "[encoded data removed]",
      "text/plain": [
       "<Figure size 640x480 with 1 Axes>"
      ]
     },
     "metadata": {},
     "output_type": "display_data"
    }
   ],
   "source": [
    "# Dados das vendas e rótulos das linguagens\n",
    "vendas = data['Peso']\n",
    "labels = data['Linguagens']\n",
    "\n",
    "# Configura o estilo escuro\n",
    "plt.style.use('dark_background')\n",
    "\n",
    "# Define as cores para as fatias\n",
    "colors = ['#31ada1', '#7E5686', '#ae0c3e', '#e86786', '#149c68', '#BA3C3D']\n",
    "\n",
    "# Define a separação entre as partes e o destaque de uma parte\n",
    "explode = (0.03, 0.03, 0.03, 0.03, 0.03, 0.03)\n",
    "\n",
    "# Configura o gráfico de pizza com cores personalizadas\n",
    "plt.pie(vendas, labels=labels, autopct='%1.1f%%', shadow=True, explode=explode, colors=colors, textprops={'fontweight': 'bold', 'color': 'white'})\n",
    "\n",
    "# Define o círculo como a forma do gráfico\n",
    "plt.axis('equal')\n",
    "plt.title('Linguagens de programação mais utilizadas', fontweight='bold')\n",
    "plt.savefig('linguages-statistics.png')\n",
    "plt.show()"
   ]
  },
  {
   "cell_type": "code",
   "execution_count": null,
   "metadata": {},
   "outputs": [],
   "source": []
  }
 ],
 "metadata": {
  "kernelspec": {
   "display_name": "Python 3 (ipykernel)",
   "language": "python",
   "name": "python3"
  },
  "language_info": {
   "codemirror_mode": {
    "name": "ipython",
    "version": 3
   },
   "file_extension": ".py",
   "mimetype": "text/x-python",
   "name": "python",
   "nbconvert_exporter": "python",
   "pygments_lexer": "ipython3",
   "version": "3.11.5"
  },
  "toc": {
   "base_numbering": 1,
   "nav_menu": {},
   "number_sections": true,
   "sideBar": true,
   "skip_h1_title": false,
   "title_cell": "Table of Contents",
   "title_sidebar": "Contents",
   "toc_cell": false,
   "toc_position": {},
   "toc_section_display": true,
   "toc_window_display": false
  }
 },
 "nbformat": 4,
 "nbformat_minor": 4
}
