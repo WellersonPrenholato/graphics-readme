{
 "cells": [
  {
   "cell_type": "markdown",
   "metadata": {},
   "source": [
    "## This script generates a graph with the statistics of the most used programming languages on GitHub itself."
   ]
  },
  {
   "cell_type": "markdown",
   "metadata": {},
   "source": [
    "#### Author: Wellerson Prenholato"
   ]
  },
  {
   "cell_type": "code",
   "execution_count": 1,
   "metadata": {
    "ExecuteTime": {
     "end_time": "2020-10-19T20:25:37.037124Z",
     "start_time": "2020-10-19T20:25:34.335109Z"
    }
   },
   "outputs": [],
   "source": [
    "#Importação da bibliotecas\n",
    "import pandas as pd\n",
    "import numpy as np \n",
    "from github import Github\n",
    "import getpass\n",
    "from functools import reduce\n",
    "import math\n",
    "from operator import itemgetter, attrgetter\n",
    "from matplotlib import pyplot as plt"
   ]
  },
  {
   "cell_type": "code",
   "execution_count": 2,
   "metadata": {
    "ExecuteTime": {
     "end_time": "2020-10-19T20:26:01.890858Z",
     "start_time": "2020-10-19T20:25:37.041110Z"
    },
    "scrolled": true
   },
   "outputs": [
    {
     "name": "stdout",
     "output_type": "stream",
     "text": [
      "Senha:········\n"
     ]
    }
   ],
   "source": [
    "g = Github('WellersonPrenholato', getpass.getpass('Senha:'))"
   ]
  },
  {
   "cell_type": "code",
   "execution_count": 3,
   "metadata": {
    "ExecuteTime": {
     "end_time": "2020-10-19T20:26:20.966607Z",
     "start_time": "2020-10-19T20:26:01.897859Z"
    },
    "scrolled": true
   },
   "outputs": [],
   "source": [
    "usedLanguages={}\n",
    "for repo in g.get_user().get_repos():\n",
    "    repoLangs = repo.get_languages()\n",
    "    for lang in repoLangs:\n",
    "        if lang in usedLanguages:\n",
    "            usedLanguages[lang] += repoLangs[lang]\n",
    "        else:\n",
    "            usedLanguages[lang] = repoLangs[lang]\n",
    "\n",
    "# print(usedLanguages)"
   ]
  },
  {
   "cell_type": "code",
   "execution_count": 4,
   "metadata": {
    "ExecuteTime": {
     "end_time": "2020-10-19T20:26:20.977605Z",
     "start_time": "2020-10-19T20:26:20.971605Z"
    }
   },
   "outputs": [],
   "source": [
    "# total = reduce(lambda x, value:x + value, usedLanguages.values(), 0)\n",
    "# total"
   ]
  },
  {
   "cell_type": "code",
   "execution_count": 5,
   "metadata": {
    "ExecuteTime": {
     "end_time": "2020-10-19T20:26:21.045607Z",
     "start_time": "2020-10-19T20:26:20.983605Z"
    }
   },
   "outputs": [],
   "source": [
    "#Talvez transformar o valor incial encontrado em um dataframe e depois realizar os cálculos para mudança de porcentagem"
   ]
  },
  {
   "cell_type": "code",
   "execution_count": 6,
   "metadata": {
    "ExecuteTime": {
     "end_time": "2020-10-19T20:26:21.084606Z",
     "start_time": "2020-10-19T20:26:21.057616Z"
    }
   },
   "outputs": [],
   "source": [
    "conjLinguagens = [];\n",
    "pesoLinguagens = [];\n",
    "for linguagem, peso in zip(list(usedLanguages.keys()), list(usedLanguages.values())):\n",
    "    conjLinguagens.append(linguagem)\n",
    "    pesoLinguagens.append(peso)"
   ]
  },
  {
   "cell_type": "code",
   "execution_count": 7,
   "metadata": {
    "ExecuteTime": {
     "end_time": "2020-10-19T20:26:21.139606Z",
     "start_time": "2020-10-19T20:26:21.111606Z"
    }
   },
   "outputs": [],
   "source": [
    "armazena_data = {'Linguagens': conjLinguagens, 'Peso': pesoLinguagens};"
   ]
  },
  {
   "cell_type": "code",
   "execution_count": 8,
   "metadata": {
    "ExecuteTime": {
     "end_time": "2020-10-19T20:26:21.213606Z",
     "start_time": "2020-10-19T20:26:21.201607Z"
    }
   },
   "outputs": [],
   "source": [
    "#Transforma o conjunto de listas em um dataframe\n",
    "data = pd.DataFrame(armazena_data)"
   ]
  },
  {
   "cell_type": "code",
   "execution_count": 9,
   "metadata": {
    "ExecuteTime": {
     "end_time": "2020-10-19T20:26:21.284609Z",
     "start_time": "2020-10-19T20:26:21.219605Z"
    }
   },
   "outputs": [],
   "source": [
    "#Gera um arquivo csv com todas linguagens utilizadas\n",
    "data.to_csv('Linguagens.csv', encoding= 'ISO-8859-1', sep= ';', index=False)"
   ]
  },
  {
   "cell_type": "code",
   "execution_count": 10,
   "metadata": {
    "ExecuteTime": {
     "end_time": "2020-10-19T20:26:21.306606Z",
     "start_time": "2020-10-19T20:26:21.295606Z"
    }
   },
   "outputs": [],
   "source": [
    "data.sort_values(by=['Peso'], ascending=False, inplace=True)"
   ]
  },
  {
   "cell_type": "code",
   "execution_count": 11,
   "metadata": {
    "ExecuteTime": {
     "end_time": "2020-10-19T20:26:21.388610Z",
     "start_time": "2020-10-19T20:26:21.319605Z"
    }
   },
   "outputs": [],
   "source": [
    "#Lista com todas as linguagens que desejamos remover\n",
    "listRemove = ['HTML', 'CSS', 'Jupyter Notebook', 'PHP'];\n",
    "\n",
    "for remove in listRemove:\n",
    "    data = data.drop(data[(data.Linguagens == remove)].index)"
   ]
  },
  {
   "cell_type": "code",
   "execution_count": 12,
   "metadata": {
    "ExecuteTime": {
     "end_time": "2020-10-19T20:26:21.431614Z",
     "start_time": "2020-10-19T20:26:21.395609Z"
    }
   },
   "outputs": [],
   "source": [
    "#Gera o arquivo csv com todas linguages utilizadas no próprio github\n",
    "data.to_csv('Linguagens.csv', encoding= 'ISO-8859-1', sep= ';', index=False)"
   ]
  },
  {
   "cell_type": "code",
   "execution_count": 13,
   "metadata": {
    "ExecuteTime": {
     "end_time": "2020-10-19T20:26:21.455606Z",
     "start_time": "2020-10-19T20:26:21.438606Z"
    }
   },
   "outputs": [],
   "source": [
    "data = pd.read_csv('Linguagens.csv', encoding='ISO-8859-1', sep=';')"
   ]
  },
  {
   "cell_type": "code",
   "execution_count": 14,
   "metadata": {
    "ExecuteTime": {
     "end_time": "2020-10-19T20:26:21.479606Z",
     "start_time": "2020-10-19T20:26:21.466606Z"
    }
   },
   "outputs": [],
   "source": [
    "# Seleciona um número x de linguagens\n",
    "qtdLanguages = 6\n",
    "indices=[x for x in data.index if (x >= qtdLanguages)]\n",
    "data.drop(indices, inplace=True)"
   ]
  },
  {
   "cell_type": "code",
   "execution_count": 15,
   "metadata": {
    "ExecuteTime": {
     "end_time": "2020-10-19T20:26:21.515605Z",
     "start_time": "2020-10-19T20:26:21.484609Z"
    },
    "scrolled": true
   },
   "outputs": [
    {
     "data": {
      "text/html": [
       "<div>\n",
       "<style scoped>\n",
       "    .dataframe tbody tr th:only-of-type {\n",
       "        vertical-align: middle;\n",
       "    }\n",
       "\n",
       "    .dataframe tbody tr th {\n",
       "        vertical-align: top;\n",
       "    }\n",
       "\n",
       "    .dataframe thead th {\n",
       "        text-align: right;\n",
       "    }\n",
       "</style>\n",
       "<table border=\"1\" class=\"dataframe\">\n",
       "  <thead>\n",
       "    <tr style=\"text-align: right;\">\n",
       "      <th></th>\n",
       "      <th>Linguagens</th>\n",
       "      <th>Peso</th>\n",
       "    </tr>\n",
       "  </thead>\n",
       "  <tbody>\n",
       "    <tr>\n",
       "      <th>0</th>\n",
       "      <td>Python</td>\n",
       "      <td>1930717</td>\n",
       "    </tr>\n",
       "    <tr>\n",
       "      <th>1</th>\n",
       "      <td>JavaScript</td>\n",
       "      <td>1730373</td>\n",
       "    </tr>\n",
       "    <tr>\n",
       "      <th>2</th>\n",
       "      <td>C</td>\n",
       "      <td>1275500</td>\n",
       "    </tr>\n",
       "    <tr>\n",
       "      <th>3</th>\n",
       "      <td>TypeScript</td>\n",
       "      <td>299566</td>\n",
       "    </tr>\n",
       "    <tr>\n",
       "      <th>4</th>\n",
       "      <td>C++</td>\n",
       "      <td>164574</td>\n",
       "    </tr>\n",
       "    <tr>\n",
       "      <th>5</th>\n",
       "      <td>Java</td>\n",
       "      <td>153410</td>\n",
       "    </tr>\n",
       "  </tbody>\n",
       "</table>\n",
       "</div>"
      ],
      "text/plain": [
       "   Linguagens     Peso\n",
       "0      Python  1930717\n",
       "1  JavaScript  1730373\n",
       "2           C  1275500\n",
       "3  TypeScript   299566\n",
       "4         C++   164574\n",
       "5        Java   153410"
      ]
     },
     "execution_count": 15,
     "metadata": {},
     "output_type": "execute_result"
    }
   ],
   "source": [
    "data.head(20)"
   ]
  },
  {
   "cell_type": "code",
   "execution_count": 16,
   "metadata": {
    "ExecuteTime": {
     "end_time": "2020-10-19T20:26:21.546606Z",
     "start_time": "2020-10-19T20:26:21.525605Z"
    }
   },
   "outputs": [
    {
     "data": {
      "text/plain": [
       "5554140"
      ]
     },
     "execution_count": 16,
     "metadata": {},
     "output_type": "execute_result"
    }
   ],
   "source": [
    "total = data['Peso'].sum()\n",
    "# total = reduce(lambda x, value: x + value, data['Peso'], 0)\n",
    "total"
   ]
  },
  {
   "cell_type": "code",
   "execution_count": 17,
   "metadata": {
    "ExecuteTime": {
     "end_time": "2020-10-19T20:26:21.566604Z",
     "start_time": "2020-10-19T20:26:21.556607Z"
    },
    "scrolled": true
   },
   "outputs": [],
   "source": [
    "data['Peso'] = pd.to_numeric(data['Peso'], downcast='float')"
   ]
  },
  {
   "cell_type": "code",
   "execution_count": 18,
   "metadata": {
    "ExecuteTime": {
     "end_time": "2020-10-19T20:26:21.583605Z",
     "start_time": "2020-10-19T20:26:21.571604Z"
    }
   },
   "outputs": [
    {
     "data": {
      "text/plain": [
       "Linguagens     object\n",
       "Peso          float32\n",
       "dtype: object"
      ]
     },
     "execution_count": 18,
     "metadata": {},
     "output_type": "execute_result"
    }
   ],
   "source": [
    "data.dtypes"
   ]
  },
  {
   "cell_type": "code",
   "execution_count": 19,
   "metadata": {
    "ExecuteTime": {
     "end_time": "2020-10-19T20:26:21.648607Z",
     "start_time": "2020-10-19T20:26:21.595607Z"
    }
   },
   "outputs": [
    {
     "name": "stdout",
     "output_type": "stream",
     "text": [
      "34.762\n",
      "31.155\n",
      "22.965\n",
      "5.394\n",
      "2.963\n",
      "2.762\n"
     ]
    }
   ],
   "source": [
    "for index, row in data.iterrows():\n",
    "    data.at[index, 'Peso'] /= total\n",
    "    data.at[index, 'Peso'] = round(data.at[index, 'Peso'] * 100, 3)\n",
    "    print(data.at[index, 'Peso'])"
   ]
  },
  {
   "cell_type": "code",
   "execution_count": 20,
   "metadata": {
    "ExecuteTime": {
     "end_time": "2020-10-19T20:26:21.673605Z",
     "start_time": "2020-10-19T20:26:21.654604Z"
    }
   },
   "outputs": [
    {
     "data": {
      "text/plain": [
       "100.001"
      ]
     },
     "execution_count": 20,
     "metadata": {},
     "output_type": "execute_result"
    }
   ],
   "source": [
    "#Verificação da porcentagem total\n",
    "data['Peso'].sum()"
   ]
  },
  {
   "cell_type": "code",
   "execution_count": 21,
   "metadata": {
    "ExecuteTime": {
     "end_time": "2020-10-19T20:26:21.712602Z",
     "start_time": "2020-10-19T20:26:21.685605Z"
    }
   },
   "outputs": [
    {
     "data": {
      "text/html": [
       "<div>\n",
       "<style scoped>\n",
       "    .dataframe tbody tr th:only-of-type {\n",
       "        vertical-align: middle;\n",
       "    }\n",
       "\n",
       "    .dataframe tbody tr th {\n",
       "        vertical-align: top;\n",
       "    }\n",
       "\n",
       "    .dataframe thead th {\n",
       "        text-align: right;\n",
       "    }\n",
       "</style>\n",
       "<table border=\"1\" class=\"dataframe\">\n",
       "  <thead>\n",
       "    <tr style=\"text-align: right;\">\n",
       "      <th></th>\n",
       "      <th>Linguagens</th>\n",
       "      <th>Peso</th>\n",
       "    </tr>\n",
       "  </thead>\n",
       "  <tbody>\n",
       "    <tr>\n",
       "      <th>0</th>\n",
       "      <td>Python</td>\n",
       "      <td>34.762001</td>\n",
       "    </tr>\n",
       "    <tr>\n",
       "      <th>1</th>\n",
       "      <td>JavaScript</td>\n",
       "      <td>31.155001</td>\n",
       "    </tr>\n",
       "    <tr>\n",
       "      <th>2</th>\n",
       "      <td>C</td>\n",
       "      <td>22.965000</td>\n",
       "    </tr>\n",
       "    <tr>\n",
       "      <th>3</th>\n",
       "      <td>TypeScript</td>\n",
       "      <td>5.394000</td>\n",
       "    </tr>\n",
       "    <tr>\n",
       "      <th>4</th>\n",
       "      <td>C++</td>\n",
       "      <td>2.963000</td>\n",
       "    </tr>\n",
       "    <tr>\n",
       "      <th>5</th>\n",
       "      <td>Java</td>\n",
       "      <td>2.762000</td>\n",
       "    </tr>\n",
       "  </tbody>\n",
       "</table>\n",
       "</div>"
      ],
      "text/plain": [
       "   Linguagens       Peso\n",
       "0      Python  34.762001\n",
       "1  JavaScript  31.155001\n",
       "2           C  22.965000\n",
       "3  TypeScript   5.394000\n",
       "4         C++   2.963000\n",
       "5        Java   2.762000"
      ]
     },
     "execution_count": 21,
     "metadata": {},
     "output_type": "execute_result"
    }
   ],
   "source": [
    "data.head(10)"
   ]
  },
  {
   "cell_type": "code",
   "execution_count": 22,
   "metadata": {
    "ExecuteTime": {
     "end_time": "2020-10-19T20:26:22.063605Z",
     "start_time": "2020-10-19T20:26:21.715603Z"
    }
   },
   "outputs": [
    {
     "data": {
      "image/png": "[encoded data removed]",
      "text/plain": [
       "<Figure size 432x288 with 1 Axes>"
      ]
     },
     "metadata": {},
     "output_type": "display_data"
    }
   ],
   "source": [
    "vendas = data['Peso']\n",
    "labels = data['Linguagens']\n",
    "\n",
    "# define o nível de separabilidade entre as partes, ordem do vetor representa as partes\n",
    "explode = (0.03, 0.03, 0.03, 0.03, 0.05 ,0.03) \n",
    "\n",
    "# define o formato de visualização com saída em 1.1%%, sombras e a separação entre as partes\n",
    "plt.pie(vendas, labels=labels, autopct='%1.1f%%', shadow=True, explode=explode)\n",
    "\n",
    "# inseri a legenda e a localização da legenda.\n",
    "# plt.legend(labels, loc=7)\n",
    "\n",
    "# define que o gráfico será plotado em circulo\n",
    "plt.axis('equal')\n",
    "\n",
    "plt.savefig('linguages-statistics.png')\n",
    "plt.show()"
   ]
  },
  {
   "cell_type": "code",
   "execution_count": null,
   "metadata": {},
   "outputs": [],
   "source": []
  }
 ],
 "metadata": {
  "kernelspec": {
   "display_name": "Python 3",
   "language": "python",
   "name": "python3"
  },
  "language_info": {
   "codemirror_mode": {
    "name": "ipython",
    "version": 3
   },
   "file_extension": ".py",
   "mimetype": "text/x-python",
   "name": "python",
   "nbconvert_exporter": "python",
   "pygments_lexer": "ipython3",
   "version": "3.7.4"
  }
 },
 "nbformat": 4,
 "nbformat_minor": 4
}
